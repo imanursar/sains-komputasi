{
 "cells": [
  {
   "cell_type": "markdown",
   "metadata": {},
   "source": [
    "### tugas nomor 9 halaman 460 "
   ]
  },
  {
   "cell_type": "markdown",
   "metadata": {},
   "source": [
    "sistem linier\n",
    "\n",
    "\\begin{equation*}\n",
    "2x_1 − x_2 + x_3 = −1 \\\\\n",
    "2x_1 + 2x_2 + 2x_3 = 4 \\\\\n",
    "− x_1 −  x_2 + 2x_3 = −5\n",
    "\\end{equation*}\n",
    "\n",
    "memiliki solusi \n",
    "\\begin{equation*}\n",
    "\\left( 1,2,-1 \\right)^t\n",
    "\\end{equation*}\n"
   ]
  },
  {
   "cell_type": "markdown",
   "metadata": {},
   "source": [
    "#### 9.a.\n",
    "tunjukan bahwa \n",
    "\\begin{equation*} \\rho\\left( T_j \\right) = \\frac{\\sqrt{5}}{2} \\leq 1 \\end{equation*}"
   ]
  },
  {
   "cell_type": "markdown",
   "metadata": {},
   "source": [
    "diketahui bentuk dari \n",
    "\\begin{equation*} T_j = D^{-1}\\left( L+U \\right) \\end{equation*}"
   ]
  },
  {
   "cell_type": "code",
   "execution_count": 2,
   "metadata": {},
   "outputs": [],
   "source": [
    "from numpy import linalg as LA\n",
    "import numpy as np"
   ]
  },
  {
   "cell_type": "markdown",
   "metadata": {},
   "source": [
    "masukkan bentuk persamaan diatas menjadi matriks"
   ]
  },
  {
   "cell_type": "code",
   "execution_count": 6,
   "metadata": {},
   "outputs": [],
   "source": [
    "a9 = np.array([[2,-1,1],[2,2,2],[-1,-1,2]])\n",
    "b9 = np.array([-1,4,5])"
   ]
  },
  {
   "cell_type": "markdown",
   "metadata": {},
   "source": [
    "dicari matriks diagonal dan matriks selain diagonal pada matriks a9"
   ]
  },
  {
   "cell_type": "code",
   "execution_count": 4,
   "metadata": {},
   "outputs": [],
   "source": [
    "d9 = np.diag(np.diag(a9))\n",
    "c9 = a9 - d9\n",
    "U9 = np.triu(a9,1)\n",
    "L9 = np.tril(a9,-1)"
   ]
  },
  {
   "cell_type": "markdown",
   "metadata": {},
   "source": [
    "maka didapat nilai Tj9 dan Cj9 yaitu"
   ]
  },
  {
   "cell_type": "code",
   "execution_count": 5,
   "metadata": {},
   "outputs": [
    {
     "name": "stdout",
     "output_type": "stream",
     "text": [
      "[[ 0.  -0.5  0.5]\n",
      " [ 1.   0.   1. ]\n",
      " [-0.5 -0.5  0. ]]\n",
      "[-0.5  2.   2.5]\n"
     ]
    }
   ],
   "source": [
    "Tj9 = np.matmul(LA.inv(d9),c9)\n",
    "Cj9 = np.matmul(LA.inv(d9),b9)\n",
    "print(Tj9)\n",
    "print(Cj9)"
   ]
  },
  {
   "cell_type": "code",
   "execution_count": 94,
   "metadata": {},
   "outputs": [
    {
     "data": {
      "text/plain": [
       "1.118033988749895"
      ]
     },
     "execution_count": 94,
     "metadata": {},
     "output_type": "execute_result"
    }
   ],
   "source": [
    "wtj9,vtj9 = LA.eig(Tj9)\n",
    "abs(np.max(wtj9))"
   ]
  },
  {
   "cell_type": "code",
   "execution_count": 95,
   "metadata": {},
   "outputs": [
    {
     "data": {
      "text/plain": [
       "2.5"
      ]
     },
     "execution_count": 95,
     "metadata": {},
     "output_type": "execute_result"
    }
   ],
   "source": [
    "wcj9,vcj9 = LA.eig(np.diag(Cj9))\n",
    "abs(np.max(wcj9))"
   ]
  },
  {
   "cell_type": "markdown",
   "metadata": {},
   "source": [
    "### jacobi method"
   ]
  },
  {
   "cell_type": "code",
   "execution_count": 98,
   "metadata": {
    "scrolled": false
   },
   "outputs": [],
   "source": [
    "N9 = 25\n",
    "x09 = np.array([0.0,0.0,0.0,0.0])\n",
    "# x09 = np.array([0,100,100,100])\n",
    "x_j9 = np.zeros((N9,len(x09)))\n",
    "x_j9[0,:] = x09\n",
    "e9 = 10^-6\n",
    "\n",
    "for k in range(1,N9):\n",
    "    for i in range(0,len(b9)):\n",
    "        y = 0\n",
    "        for j in range(0,len(b9)):\n",
    "            if (j != i):\n",
    "                y = y + a9[i,j]*x_j9[k-1,j]\n",
    "                \n",
    "        x_j9[k,i] = (1/a9[i,i]) * (b9[i]-y)"
   ]
  },
  {
   "cell_type": "code",
   "execution_count": 99,
   "metadata": {
    "collapsed": true
   },
   "outputs": [
    {
     "data": {
      "text/plain": [
       "array([[  0.        ,   0.        ,   0.        ,   0.        ],\n",
       "       [ -0.5       ,   2.        ,   2.5       ,   0.        ],\n",
       "       [ -0.75      ,   0.        ,   3.25      ,   0.        ],\n",
       "       [ -2.125     ,  -0.5       ,   2.125     ,   0.        ],\n",
       "       [ -1.8125    ,   2.        ,   1.1875    ,   0.        ],\n",
       "       [ -0.09375   ,   2.625     ,   2.59375   ,   0.        ],\n",
       "       [ -0.484375  ,  -0.5       ,   3.765625  ,   0.        ],\n",
       "       [ -2.6328125 ,  -1.28125   ,   2.0078125 ,   0.        ],\n",
       "       [ -2.14453125,   2.625     ,   0.54296875,   0.        ],\n",
       "       [  0.54101562,   3.6015625 ,   2.74023438,   0.        ],\n",
       "       [ -0.06933594,  -1.28125   ,   4.57128906,   0.        ],\n",
       "       [ -3.42626953,  -2.50195312,   1.82470703,   0.        ],\n",
       "       [ -2.66333008,   3.6015625 ,  -0.46411133,   0.        ],\n",
       "       [  1.53283691,   5.12744141,   2.96911621,   0.        ],\n",
       "       [  0.5791626 ,  -2.50195312,   5.83013916,   0.        ],\n",
       "       [ -4.66604614,  -4.40930176,   1.53860474,   0.        ],\n",
       "       [ -3.47395325,   5.12744141,  -2.03767395,   0.        ],\n",
       "       [  3.08255768,   7.5116272 ,   3.32674408,   0.        ],\n",
       "       [  1.59244156,  -4.40930176,   7.79709244,   0.        ],\n",
       "       [ -6.6031971 ,  -7.389534  ,   1.0915699 ,   0.        ],\n",
       "       [ -4.74055195,   7.5116272 ,  -4.49636555,   0.        ],\n",
       "       [  5.50399637,  11.2369175 ,   3.88553762,   0.        ],\n",
       "       [  3.17568994,  -7.389534  ,  10.87045693,   0.        ],\n",
       "       [ -9.62999547, -12.04614687,   0.39307797,   0.        ],\n",
       "       [ -6.71961242,  11.2369175 ,  -8.33807117,   0.        ]])"
      ]
     },
     "execution_count": 99,
     "metadata": {},
     "output_type": "execute_result"
    }
   ],
   "source": [
    "x_j9"
   ]
  },
  {
   "cell_type": "markdown",
   "metadata": {},
   "source": [
    "### Gauss-Seidel method"
   ]
  },
  {
   "cell_type": "code",
   "execution_count": 157,
   "metadata": {},
   "outputs": [],
   "source": [
    "N9 = 25\n",
    "x09 = np.array([0.0,0.0,0.0,0.0])\n",
    "# x09 = np.array([0.0,100.0,100.0,100.0])\n",
    "z = np.zeros((1,4))\n",
    "x_gs9 = np.zeros((N9,len(x09)))\n",
    "x_gs9[0,:] = x09\n",
    "e9 = 10^-5\n",
    "\n",
    "for k in range(1,N9):\n",
    "    for i in range(0,len(b9)):\n",
    "        y = 0\n",
    "        for j in range(0,len(b9)):\n",
    "            if (j != i):\n",
    "                y = y + a9[i,j]*x09[j]\n",
    "        \n",
    "        x09[i] = (1/a9[i,i]) * (b9[i]-y)\n",
    "    x_gs9[k,] = x09"
   ]
  },
  {
   "cell_type": "code",
   "execution_count": 158,
   "metadata": {},
   "outputs": [
    {
     "data": {
      "text/plain": [
       "array([[ 0.        ,  0.        ,  0.        ,  0.        ],\n",
       "       [-0.5       ,  2.5       ,  3.5       ,  0.        ],\n",
       "       [-1.        , -0.5       ,  1.75      ,  0.        ],\n",
       "       [-1.625     ,  1.875     ,  2.625     ,  0.        ],\n",
       "       [-0.875     ,  0.25      ,  2.1875    ,  0.        ],\n",
       "       [-1.46875   ,  1.28125   ,  2.40625   ,  0.        ],\n",
       "       [-1.0625    ,  0.65625   ,  2.296875  ,  0.        ],\n",
       "       [-1.3203125 ,  1.0234375 ,  2.3515625 ,  0.        ],\n",
       "       [-1.1640625 ,  0.8125    ,  2.32421875,  0.        ],\n",
       "       [-1.25585938,  0.93164062,  2.33789062,  0.        ],\n",
       "       [-1.203125  ,  0.86523438,  2.33105469,  0.        ],\n",
       "       [-1.23291016,  0.90185547,  2.33447266,  0.        ],\n",
       "       [-1.21630859,  0.88183594,  2.33276367,  0.        ],\n",
       "       [-1.22546387,  0.8927002 ,  2.33361816,  0.        ],\n",
       "       [-1.22045898,  0.88684082,  2.33319092,  0.        ],\n",
       "       [-1.22317505,  0.88998413,  2.33340454,  0.        ],\n",
       "       [-1.22171021,  0.88830566,  2.33329773,  0.        ],\n",
       "       [-1.22249603,  0.8891983 ,  2.33335114,  0.        ],\n",
       "       [-1.22207642,  0.88872528,  2.33332443,  0.        ],\n",
       "       [-1.22229958,  0.88897514,  2.33333778,  0.        ],\n",
       "       [-1.22218132,  0.88884354,  2.33333111,  0.        ],\n",
       "       [-1.22224379,  0.88891268,  2.33333445,  0.        ],\n",
       "       [-1.22221088,  0.88887644,  2.33333278,  0.        ],\n",
       "       [-1.22222817,  0.88889539,  2.33333361,  0.        ],\n",
       "       [-1.22221911,  0.8888855 ,  2.33333319,  0.        ]])"
      ]
     },
     "execution_count": 158,
     "metadata": {},
     "output_type": "execute_result"
    }
   ],
   "source": [
    " x_gs9"
   ]
  },
  {
   "cell_type": "markdown",
   "metadata": {},
   "source": [
    "### tugas nomor 10 halaman 460"
   ]
  },
  {
   "cell_type": "markdown",
   "metadata": {},
   "source": [
    "sistem linier\n",
    "\n",
    "\\begin{equation*}\n",
    "x_1 + 2x_2 - 2x_3 = 7 \\\\\n",
    "x_1 + x_2 + x_3 = 2 \\\\\n",
    "2x_1 +  2x_2 + x_3 = 5\n",
    "\\end{equation*}\n",
    "\n",
    "memiliki solusi \n",
    "\\begin{equation*}\n",
    "\\left( 1,2,-1 \\right)^t\n",
    "\\end{equation*}\n"
   ]
  },
  {
   "cell_type": "markdown",
   "metadata": {},
   "source": [
    "#### 10.a.\n",
    "tunjukan bahwa \n",
    "\\begin{equation*} \\rho\\left( T_j \\right) = 0 \\end{equation*}"
   ]
  },
  {
   "cell_type": "code",
   "execution_count": 163,
   "metadata": {},
   "outputs": [],
   "source": [
    "a10 = np.array([[1,2,-2],[1,1,1],[2,2,1]])\n",
    "b10 = np.array([7,2,5])"
   ]
  },
  {
   "cell_type": "code",
   "execution_count": 51,
   "metadata": {},
   "outputs": [],
   "source": [
    "d10 = np.diag(np.diag(a10))\n",
    "c10 = a10 - d10\n",
    "U10 = np.triu(a10,1)\n",
    "L10 = np.tril(a10,-1)"
   ]
  },
  {
   "cell_type": "code",
   "execution_count": 52,
   "metadata": {},
   "outputs": [
    {
     "name": "stdout",
     "output_type": "stream",
     "text": [
      "[[ 0.  2. -2.]\n",
      " [ 1.  0.  1.]\n",
      " [ 2.  2.  0.]]\n",
      "[7. 2. 5.]\n"
     ]
    }
   ],
   "source": [
    "Tj10 = np.matmul(LA.inv(d10),c10)\n",
    "Cj10 = np.matmul(LA.inv(d10),b10)\n",
    "print(Tj10)\n",
    "print(Cj10)"
   ]
  },
  {
   "cell_type": "code",
   "execution_count": 53,
   "metadata": {},
   "outputs": [
    {
     "data": {
      "text/plain": [
       "1.2333112361429784e-05"
      ]
     },
     "execution_count": 53,
     "metadata": {},
     "output_type": "execute_result"
    }
   ],
   "source": [
    "wtj10,vtj10 = LA.eig(Tj10)\n",
    "abs(np.max(wtj10))"
   ]
  },
  {
   "cell_type": "code",
   "execution_count": 54,
   "metadata": {},
   "outputs": [
    {
     "data": {
      "text/plain": [
       "7.0"
      ]
     },
     "execution_count": 54,
     "metadata": {},
     "output_type": "execute_result"
    }
   ],
   "source": [
    "wcj10,vcj10 = LA.eig(np.diag(Cj10))\n",
    "abs(np.max(wcj10))"
   ]
  },
  {
   "cell_type": "markdown",
   "metadata": {},
   "source": [
    "### jacobi method"
   ]
  },
  {
   "cell_type": "code",
   "execution_count": 164,
   "metadata": {},
   "outputs": [],
   "source": []
  },
  {
   "cell_type": "code",
   "execution_count": 165,
   "metadata": {},
   "outputs": [
    {
     "data": {
      "text/plain": [
       "array([[  0.,   0.,   0.,   0.],\n",
       "       [  7.,   2.,   5.,   0.],\n",
       "       [ 13., -10., -13.,   0.],\n",
       "       [  1.,   2.,  -1.,   0.],\n",
       "       [  1.,   2.,  -1.,   0.],\n",
       "       [  1.,   2.,  -1.,   0.],\n",
       "       [  1.,   2.,  -1.,   0.],\n",
       "       [  1.,   2.,  -1.,   0.],\n",
       "       [  1.,   2.,  -1.,   0.],\n",
       "       [  1.,   2.,  -1.,   0.],\n",
       "       [  1.,   2.,  -1.,   0.],\n",
       "       [  1.,   2.,  -1.,   0.],\n",
       "       [  1.,   2.,  -1.,   0.],\n",
       "       [  1.,   2.,  -1.,   0.],\n",
       "       [  1.,   2.,  -1.,   0.],\n",
       "       [  1.,   2.,  -1.,   0.],\n",
       "       [  1.,   2.,  -1.,   0.],\n",
       "       [  1.,   2.,  -1.,   0.],\n",
       "       [  1.,   2.,  -1.,   0.],\n",
       "       [  1.,   2.,  -1.,   0.],\n",
       "       [  1.,   2.,  -1.,   0.],\n",
       "       [  1.,   2.,  -1.,   0.],\n",
       "       [  1.,   2.,  -1.,   0.],\n",
       "       [  1.,   2.,  -1.,   0.],\n",
       "       [  1.,   2.,  -1.,   0.]])"
      ]
     },
     "execution_count": 165,
     "metadata": {},
     "output_type": "execute_result"
    }
   ],
   "source": [
    "x_j10"
   ]
  },
  {
   "cell_type": "markdown",
   "metadata": {},
   "source": [
    "### Gauss-Seidel method"
   ]
  },
  {
   "cell_type": "code",
   "execution_count": 166,
   "metadata": {},
   "outputs": [],
   "source": [
    "N10 = 25\n",
    "x010 = np.array([0.0,0.0,0.0,0.0])\n",
    "# x09 = np.array([0,100,100,100])\n",
    "x_gs10 = np.zeros((N10,len(x010)))\n",
    "x_gs10[0,:] = x010\n",
    "e10 = 10^-5\n",
    "\n",
    "for k in range(1,N10):\n",
    "    for i in range(0,len(b10)):\n",
    "        y = 0\n",
    "        for j in range(0,len(b10)):\n",
    "            if (j != i):\n",
    "                y = y + a10[i,j]*x010[j]\n",
    "            \n",
    "        x010[i] = (1/a10[i,i]) * (b10[i]-y)\n",
    "    x_gs10[k,:] = x010"
   ]
  },
  {
   "cell_type": "code",
   "execution_count": 167,
   "metadata": {},
   "outputs": [
    {
     "data": {
      "text/plain": [
       "array([[ 0.00000000e+00,  0.00000000e+00,  0.00000000e+00,\n",
       "         0.00000000e+00],\n",
       "       [ 7.00000000e+00, -5.00000000e+00,  1.00000000e+00,\n",
       "         0.00000000e+00],\n",
       "       [ 1.90000000e+01, -1.80000000e+01,  3.00000000e+00,\n",
       "         0.00000000e+00],\n",
       "       [ 4.90000000e+01, -5.00000000e+01,  7.00000000e+00,\n",
       "         0.00000000e+00],\n",
       "       [ 1.21000000e+02, -1.26000000e+02,  1.50000000e+01,\n",
       "         0.00000000e+00],\n",
       "       [ 2.89000000e+02, -3.02000000e+02,  3.10000000e+01,\n",
       "         0.00000000e+00],\n",
       "       [ 6.73000000e+02, -7.02000000e+02,  6.30000000e+01,\n",
       "         0.00000000e+00],\n",
       "       [ 1.53700000e+03, -1.59800000e+03,  1.27000000e+02,\n",
       "         0.00000000e+00],\n",
       "       [ 3.45700000e+03, -3.58200000e+03,  2.55000000e+02,\n",
       "         0.00000000e+00],\n",
       "       [ 7.68100000e+03, -7.93400000e+03,  5.11000000e+02,\n",
       "         0.00000000e+00],\n",
       "       [ 1.68970000e+04, -1.74060000e+04,  1.02300000e+03,\n",
       "         0.00000000e+00],\n",
       "       [ 3.68650000e+04, -3.78860000e+04,  2.04700000e+03,\n",
       "         0.00000000e+00],\n",
       "       [ 7.98730000e+04, -8.19180000e+04,  4.09500000e+03,\n",
       "         0.00000000e+00],\n",
       "       [ 1.72033000e+05, -1.76126000e+05,  8.19100000e+03,\n",
       "         0.00000000e+00],\n",
       "       [ 3.68641000e+05, -3.76830000e+05,  1.63830000e+04,\n",
       "         0.00000000e+00],\n",
       "       [ 7.86433000e+05, -8.02814000e+05,  3.27670000e+04,\n",
       "         0.00000000e+00],\n",
       "       [ 1.67116900e+06, -1.70393400e+06,  6.55350000e+04,\n",
       "         0.00000000e+00],\n",
       "       [ 3.53894500e+06, -3.60447800e+06,  1.31071000e+05,\n",
       "         0.00000000e+00],\n",
       "       [ 7.47110500e+06, -7.60217400e+06,  2.62143000e+05,\n",
       "         0.00000000e+00],\n",
       "       [ 1.57286410e+07, -1.59907820e+07,  5.24287000e+05,\n",
       "         0.00000000e+00],\n",
       "       [ 3.30301450e+07, -3.35544300e+07,  1.04857500e+06,\n",
       "         0.00000000e+00],\n",
       "       [ 6.92060170e+07, -7.02545900e+07,  2.09715100e+06,\n",
       "         0.00000000e+00],\n",
       "       [ 1.44703489e+08, -1.46800638e+08,  4.19430300e+06,\n",
       "         0.00000000e+00],\n",
       "       [ 3.01989889e+08, -3.06184190e+08,  8.38860700e+06,\n",
       "         0.00000000e+00],\n",
       "       [ 6.29145601e+08, -6.37534206e+08,  1.67772150e+07,\n",
       "         0.00000000e+00]])"
      ]
     },
     "execution_count": 167,
     "metadata": {},
     "output_type": "execute_result"
    }
   ],
   "source": [
    "x_gs10"
   ]
  },
  {
   "cell_type": "markdown",
   "metadata": {},
   "source": [
    "### tugas nomor 11 halaman 460"
   ]
  },
  {
   "cell_type": "markdown",
   "metadata": {},
   "source": [
    "sistem linier\n",
    "\n",
    "\\begin{equation*}\n",
    "x_1 - x_3 = 0.2 \\\\\n",
    "-0.5x_1 + x_2 - 0.25x_3 = -1.425 \\\\\n",
    "x_1 - 0.5x_2 + x_3 = 2\n",
    "\\end{equation*}\n",
    "\n",
    "memiliki solusi \n",
    "\\begin{equation*}\n",
    "\\left( 0.9,-0.8,0.7 \\right)^t\n",
    "\\end{equation*}"
   ]
  },
  {
   "cell_type": "code",
   "execution_count": 173,
   "metadata": {},
   "outputs": [],
   "source": [
    "# a11 = np.array([[1,0,-1],[-0.5,1,-0.25],[1,-0.5,1]])\n",
    "a11 = np.array([[1,0,-2],[-0.5,1,-0.25],[1,-0.5,1]])\n",
    "b11 = np.array([0.2,-1.425,2])"
   ]
  },
  {
   "cell_type": "markdown",
   "metadata": {},
   "source": [
    " strictly diagonally dominant\n",
    " \n",
    " |1| = 0 + |-1| = 1\n",
    " |1| > |-0.5| + |-0.25| = 0.75\n",
    " |1| < |1| + |-0.5| = 1.5\n",
    " \n",
    " dari nilai diatas dapat disimpulkan bahwa matriks tersebut tidak strictly diagonally dominant"
   ]
  },
  {
   "cell_type": "code",
   "execution_count": 57,
   "metadata": {},
   "outputs": [],
   "source": [
    "d11 = np.diag(np.diag(a11))\n",
    "c11 = a10 - d11\n",
    "U11 = np.triu(a11,1)\n",
    "L11 = np.tril(a11,-1)"
   ]
  },
  {
   "cell_type": "code",
   "execution_count": 60,
   "metadata": {},
   "outputs": [
    {
     "name": "stdout",
     "output_type": "stream",
     "text": [
      "[[ 0.     0.     1.   ]\n",
      " [ 0.     0.     0.75 ]\n",
      " [ 0.     0.    -0.625]]\n",
      "[ 0.2    -1.325   1.1375]\n"
     ]
    }
   ],
   "source": [
    "Tgs11 = np.matmul(-LA.inv(d11+L11),U11)\n",
    "Cgs11 = np.matmul(LA.inv(d11+L11),b11)\n",
    "print(Tgs11)\n",
    "print(Cgs11)"
   ]
  },
  {
   "cell_type": "code",
   "execution_count": 61,
   "metadata": {},
   "outputs": [
    {
     "data": {
      "text/plain": [
       "0.0"
      ]
     },
     "execution_count": 61,
     "metadata": {},
     "output_type": "execute_result"
    }
   ],
   "source": [
    "wtgs11,vtgs11 = LA.eig(Tgs11)\n",
    "abs(np.max(wtgs11))"
   ]
  },
  {
   "cell_type": "code",
   "execution_count": 62,
   "metadata": {},
   "outputs": [
    {
     "data": {
      "text/plain": [
       "1.1375"
      ]
     },
     "execution_count": 62,
     "metadata": {},
     "output_type": "execute_result"
    }
   ],
   "source": [
    "wcgs11,vcgs11 = LA.eig(np.diag(Cgs11))\n",
    "abs(np.max(wcgs11))"
   ]
  },
  {
   "cell_type": "markdown",
   "metadata": {},
   "source": [
    "### jacobi method"
   ]
  },
  {
   "cell_type": "code",
   "execution_count": 174,
   "metadata": {},
   "outputs": [],
   "source": [
    "N11 = 25\n",
    "x011 = np.array([0.0,0.0,0.0,0.0])\n",
    "# x09 = np.array([0,100,100,100])\n",
    "x_j11 = np.zeros((N11,len(x011)))\n",
    "x_j11[0,:] = x011\n",
    "e11 = 10^-6\n",
    "\n",
    "for k in range(1,N11):\n",
    "    for i in range(0,len(b11)):\n",
    "        y = 0\n",
    "        for j in range(0,len(b11)):\n",
    "            if (j != i):\n",
    "                y = y + a11[i,j]*x_j11[k-1,j]\n",
    "                \n",
    "        x_j11[k,i] = (1/a11[i,i]) * (b11[i]-y)"
   ]
  },
  {
   "cell_type": "code",
   "execution_count": 175,
   "metadata": {},
   "outputs": [
    {
     "data": {
      "text/plain": [
       "array([[ 0.00000000e+00,  0.00000000e+00,  0.00000000e+00,\n",
       "         0.00000000e+00],\n",
       "       [ 2.00000000e-01, -1.42500000e+00,  2.00000000e+00,\n",
       "         0.00000000e+00],\n",
       "       [ 4.20000000e+00, -8.25000000e-01,  1.08750000e+00,\n",
       "         0.00000000e+00],\n",
       "       [ 2.37500000e+00,  9.46875000e-01, -2.61250000e+00,\n",
       "         0.00000000e+00],\n",
       "       [-5.02500000e+00, -8.90625000e-01,  9.84375000e-02,\n",
       "         0.00000000e+00],\n",
       "       [ 3.96875000e-01, -3.91289062e+00,  6.57968750e+00,\n",
       "         0.00000000e+00],\n",
       "       [ 1.33593750e+01,  4.18359375e-01, -3.53320313e-01,\n",
       "         0.00000000e+00],\n",
       "       [-5.06640625e-01,  5.16635742e+00, -1.11501953e+01,\n",
       "         0.00000000e+00],\n",
       "       [-2.21003906e+01, -4.46586914e+00,  5.08981934e+00,\n",
       "         0.00000000e+00],\n",
       "       [ 1.03796387e+01, -1.12027405e+01,  2.18674561e+01,\n",
       "         0.00000000e+00],\n",
       "       [ 4.39349121e+01,  9.23168335e+00, -1.39810089e+01,\n",
       "         0.00000000e+00],\n",
       "       [-2.77620178e+01,  1.70472038e+01, -3.73190704e+01,\n",
       "         0.00000000e+00],\n",
       "       [-7.44381409e+01, -2.46357765e+01,  3.82856197e+01,\n",
       "         0.00000000e+00],\n",
       "       [ 7.67712395e+01, -2.90726655e+01,  6.41202526e+01,\n",
       "         0.00000000e+00],\n",
       "       [ 1.28440505e+02,  5.29906829e+01, -8.93075722e+01,\n",
       "         0.00000000e+00],\n",
       "       [-1.78415144e+02,  4.04683596e+01, -9.99451638e+01,\n",
       "         0.00000000e+00],\n",
       "       [-1.99690328e+02, -1.15618863e+02,  2.00649324e+02,\n",
       "         0.00000000e+00],\n",
       "       [ 4.01498648e+02, -5.11078327e+01,  1.43880896e+02,\n",
       "         0.00000000e+00],\n",
       "       [ 2.87961792e+02,  2.35294548e+02, -4.25052565e+02,\n",
       "         0.00000000e+00],\n",
       "       [-8.49905130e+02,  3.62927548e+01, -1.68314518e+02,\n",
       "         0.00000000e+00],\n",
       "       [-3.36429036e+02, -4.68456194e+02,  8.70051507e+02,\n",
       "         0.00000000e+00],\n",
       "       [ 1.74030301e+03,  4.78733589e+01,  1.04200939e+02,\n",
       "         0.00000000e+00],\n",
       "       [ 2.08601877e+02,  8.94776742e+02, -1.71436633e+03,\n",
       "         0.00000000e+00],\n",
       "       [-3.42853267e+03, -3.25715645e+02,  2.40786494e+02,\n",
       "         0.00000000e+00],\n",
       "       [ 4.81772988e+02, -1.65549471e+03,  3.26767485e+03,\n",
       "         0.00000000e+00]])"
      ]
     },
     "execution_count": 175,
     "metadata": {},
     "output_type": "execute_result"
    }
   ],
   "source": [
    "x_j11"
   ]
  },
  {
   "cell_type": "markdown",
   "metadata": {},
   "source": [
    "### Gauss-Seidel method"
   ]
  },
  {
   "cell_type": "code",
   "execution_count": 176,
   "metadata": {},
   "outputs": [],
   "source": [
    "N11 = 25\n",
    "x011 = np.array([0.0,0.0,0.0,0.0])\n",
    "# x09 = np.array([0,100,100,100])\n",
    "x_gs11 = np.zeros((N11,len(x011)))\n",
    "x_gs11[0,:] = x011\n",
    "e11 = 10^-5\n",
    "\n",
    "for k in range(1,N11):\n",
    "    for i in range(0,len(b11)):\n",
    "        y = 0\n",
    "        for j in range(0,len(b11)):\n",
    "            if (j != i):\n",
    "                y = y + a11[i,j]*x011[j]\n",
    "            \n",
    "        x011[i] = (1/a11[i,i]) * (b11[i]-y)\n",
    "    x_gs11[k,:] = x011"
   ]
  },
  {
   "cell_type": "code",
   "execution_count": 177,
   "metadata": {},
   "outputs": [
    {
     "data": {
      "text/plain": [
       "array([[ 0.00000000e+00,  0.00000000e+00,  0.00000000e+00,\n",
       "         0.00000000e+00],\n",
       "       [ 2.00000000e-01, -1.32500000e+00,  1.13750000e+00,\n",
       "         0.00000000e+00],\n",
       "       [ 2.47500000e+00,  9.68750000e-02, -4.26562500e-01,\n",
       "         0.00000000e+00],\n",
       "       [-6.53125000e-01, -1.85820313e+00,  1.72402344e+00,\n",
       "         0.00000000e+00],\n",
       "       [ 3.64804688e+00,  8.30029297e-01, -1.23303223e+00,\n",
       "         0.00000000e+00],\n",
       "       [-2.26606445e+00, -2.86629028e+00,  2.83291931e+00,\n",
       "         0.00000000e+00],\n",
       "       [ 5.86583862e+00,  2.21614914e+00, -2.75776405e+00,\n",
       "         0.00000000e+00],\n",
       "       [-5.31552811e+00, -4.77220507e+00,  4.92942557e+00,\n",
       "         0.00000000e+00],\n",
       "       [ 1.00588511e+01,  4.83678197e+00, -5.64046016e+00,\n",
       "         0.00000000e+00],\n",
       "       [-1.10809203e+01, -8.37557520e+00,  8.89313272e+00,\n",
       "         0.00000000e+00],\n",
       "       [ 1.79862654e+01,  9.79141591e+00, -1.10905575e+01,\n",
       "         0.00000000e+00],\n",
       "       [-2.19811150e+01, -1.51881969e+01,  1.63870166e+01,\n",
       "         0.00000000e+00],\n",
       "       [ 3.29740331e+01,  1.91587707e+01, -2.13946478e+01,\n",
       "         0.00000000e+00],\n",
       "       [-4.25892955e+01, -2.80683097e+01,  3.05551407e+01,\n",
       "         0.00000000e+00],\n",
       "       [ 6.13102814e+01,  3.68689258e+01, -4.08758184e+01,\n",
       "         0.00000000e+00],\n",
       "       [-8.15516369e+01, -5.24197730e+01,  5.73417503e+01,\n",
       "         0.00000000e+00],\n",
       "       [ 1.14883501e+02,  7.03521879e+01, -7.77074067e+01,\n",
       "         0.00000000e+00],\n",
       "       [-1.55214813e+02, -9.84592584e+01,  1.07985184e+02,\n",
       "         0.00000000e+00],\n",
       "       [ 2.16170368e+02,  1.33656480e+02, -1.47342128e+02,\n",
       "         0.00000000e+00],\n",
       "       [-2.94484257e+02, -1.85502660e+02,  2.03732926e+02,\n",
       "         0.00000000e+00],\n",
       "       [ 4.07665853e+02,  2.53341158e+02, -2.78995274e+02,\n",
       "         0.00000000e+00],\n",
       "       [-5.57790548e+02, -3.50069092e+02,  3.84756002e+02,\n",
       "         0.00000000e+00],\n",
       "       [ 7.69712003e+02,  4.79620002e+02, -5.27902002e+02,\n",
       "         0.00000000e+00],\n",
       "       [-1.05560400e+03, -6.61202503e+02,  7.27002753e+02,\n",
       "         0.00000000e+00],\n",
       "       [ 1.45420551e+03,  9.07428441e+02, -9.98491285e+02,\n",
       "         0.00000000e+00]])"
      ]
     },
     "execution_count": 177,
     "metadata": {},
     "output_type": "execute_result"
    }
   ],
   "source": [
    "x_gs11"
   ]
  },
  {
   "cell_type": "code",
   "execution_count": null,
   "metadata": {},
   "outputs": [],
   "source": []
  }
 ],
 "metadata": {
  "kernelspec": {
   "display_name": "Python 3",
   "language": "python",
   "name": "python3"
  },
  "language_info": {
   "codemirror_mode": {
    "name": "ipython",
    "version": 3
   },
   "file_extension": ".py",
   "mimetype": "text/x-python",
   "name": "python",
   "nbconvert_exporter": "python",
   "pygments_lexer": "ipython3",
   "version": "3.6.5"
  }
 },
 "nbformat": 4,
 "nbformat_minor": 2
}
