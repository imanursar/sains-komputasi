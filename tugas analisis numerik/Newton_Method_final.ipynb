{
 "cells": [
  {
   "cell_type": "markdown",
   "metadata": {},
   "source": [
    "## Library"
   ]
  },
  {
   "cell_type": "code",
   "execution_count": 16,
   "metadata": {},
   "outputs": [],
   "source": [
    "%matplotlib notebook\n",
    "import matplotlib.pyplot as plt\n",
    "import numpy as np\n",
    "from sympy import *\n",
    "from ad import adnumber\n",
    "from ad.admath import *\n",
    "import math"
   ]
  },
  {
   "cell_type": "markdown",
   "metadata": {},
   "source": [
    "## Newton method"
   ]
  },
  {
   "cell_type": "code",
   "execution_count": 17,
   "metadata": {},
   "outputs": [],
   "source": [
    "def Newton_system(F, J, x, eps):\n",
    "    y=[]\n",
    "    e=[]\n",
    "    y.append(x)\n",
    "    F_value = F(x)\n",
    "    F_norm = np.linalg.norm(F_value, ord=2)  # l2 norm of vector\n",
    "    e.append(F_norm)\n",
    "    iteration_counter = 0\n",
    "#     print(np.around(x[0],4),np.around(x[1],4), np.around(F_norm,4))\n",
    "    while abs(F_norm) > eps and iteration_counter < 100:\n",
    "        delta = np.linalg.solve(J(x), -F_value)\n",
    "        x = x + delta\n",
    "        y.append(x)\n",
    "        F_value = F(x)\n",
    "        F_norm = np.linalg.norm(F_value, ord=2)\n",
    "        e.append(F_norm)\n",
    "        iteration_counter += 1\n",
    "#         print(np.around(x[0],4),\"\\t|\\t\",np.around(x[1],4),\"\\t|\\t\",np.around(x[2],4),\"\\t|\\t\",np.around(x[3],4),\"\\t|\\t\",np.around(x[4],4),\"\\t|\\t\",np.around(x[5],4),\"\\t|\\t\", np.around(F_norm,4))\n",
    "\n",
    "    # Here, either a solution is found, or too many iterations\n",
    "    if abs(F_norm) > eps:\n",
    "        iteration_counter = -1\n",
    "    return x, iteration_counter, y, e"
   ]
  },
  {
   "cell_type": "markdown",
   "metadata": {},
   "source": [
    "## function and jacobian matrix"
   ]
  },
  {
   "cell_type": "code",
   "execution_count": 18,
   "metadata": {},
   "outputs": [],
   "source": [
    "def F(x):\n",
    "    y=np.zeros(len(f))\n",
    "    x_ad = adnumber(x)\n",
    "    for i in range(len(f)):\n",
    "        y[i]=f[i](x_ad).x\n",
    "    return(y)\n",
    "\n",
    "def J(x):\n",
    "    y=np.zeros(len(f))\n",
    "    x_ad = adnumber(x)\n",
    "    J_f = np.zeros((len(f), len(x_ad)))\n",
    "    for i in range(len(f)):\n",
    "        y[i]=f[i](x_ad).x\n",
    "        for j in range(len(x_ad)):\n",
    "            J_f[i][j] = f[i](x_ad).d(x_ad[j])\n",
    "    return(J_f)"
   ]
  },
  {
   "cell_type": "markdown",
   "metadata": {},
   "source": [
    "## init"
   ]
  },
  {
   "cell_type": "code",
   "execution_count": 19,
   "metadata": {},
   "outputs": [
    {
     "name": "stdout",
     "output_type": "stream",
     "text": [
      "\n",
      "\n",
      "maka nilai x1= 0.1378 dan nilai x2= -3.0904 pada iterasi ke-29\n"
     ]
    }
   ],
   "source": [
    "#initial number\n",
    "init=np.array([10., 100., 10., 100., 10., 100.])\n",
    "#function\n",
    "f=[lambda x: x[0] + ((x[1]**2)*x[3]*x[5]) + 0.75,\n",
    "   lambda x: x[1] + 0.405*admath.exp(1-(x[0]*x[1])) + 1.405,\n",
    "   lambda x: x[2] - (x[3]*x[5]/2) + 1.5,\n",
    "   lambda x: x[3] - 0.605*admath.exp(1-(x[2]**2)) - 0.395,\n",
    "   lambda x: x[4] - (x[1]*x[5]/2) + 1.5,\n",
    "   lambda x: x[5] - x[0]*x[4]]\n",
    "#error\n",
    "eps=0.000001\n",
    "\n",
    "final,n,step,e= Newton_system(F,J,init,eps)\n",
    "print(\"\\n\")\n",
    "print(\"maka nilai x1= \" + str(np.round(final[0],4)) +\" dan nilai x2= \" + str(np.round(final[1],4)) +\" pada iterasi ke-\" + str(np.round(n,4)))"
   ]
  }
 ],
 "metadata": {
  "kernelspec": {
   "display_name": "Python 3",
   "language": "python",
   "name": "python3"
  },
  "language_info": {
   "codemirror_mode": {
    "name": "ipython",
    "version": 3
   },
   "file_extension": ".py",
   "mimetype": "text/x-python",
   "name": "python",
   "nbconvert_exporter": "python",
   "pygments_lexer": "ipython3",
   "version": "3.6.5"
  }
 },
 "nbformat": 4,
 "nbformat_minor": 2
}
